{
 "cells": [
  {
   "cell_type": "code",
   "execution_count": 1,
   "id": "1c07ab10-1b37-4c8d-88e5-05db95525720",
   "metadata": {},
   "outputs": [],
   "source": [
    "greeting = \" Hello Masai !\""
   ]
  },
  {
   "cell_type": "code",
   "execution_count": 2,
   "id": "e8cb1c72-af15-4e6b-aef1-f72b2e966c05",
   "metadata": {},
   "outputs": [
    {
     "name": "stdout",
     "output_type": "stream",
     "text": [
      " Hello Masai !\n"
     ]
    }
   ],
   "source": [
    "print(greeting)"
   ]
  },
  {
   "cell_type": "code",
   "execution_count": 4,
   "id": "a7e8a24b-63d4-4226-b978-9910c8512129",
   "metadata": {},
   "outputs": [],
   "source": [
    "num1 = 3\n",
    "num2 = 5 "
   ]
  },
  {
   "cell_type": "code",
   "execution_count": 5,
   "id": "ce1571cb-4e28-41e1-9c5f-69c6a588f81a",
   "metadata": {},
   "outputs": [],
   "source": [
    "sum_of_numbers  = num1 + num2 "
   ]
  },
  {
   "cell_type": "code",
   "execution_count": 6,
   "id": "ecbd8b33-70f7-44b0-b3ef-d4f326e6c1fc",
   "metadata": {},
   "outputs": [
    {
     "name": "stdout",
     "output_type": "stream",
     "text": [
      "sum_of_numbers = 8\n"
     ]
    }
   ],
   "source": [
    "print (\"sum_of_numbers =\", sum_of_numbers)"
   ]
  },
  {
   "cell_type": "code",
   "execution_count": null,
   "id": "da2f65dc-314e-4911-a57c-59e824327aa7",
   "metadata": {},
   "outputs": [],
   "source": []
  }
 ],
 "metadata": {
  "kernelspec": {
   "display_name": "Python 3 (ipykernel)",
   "language": "python",
   "name": "python3"
  },
  "language_info": {
   "codemirror_mode": {
    "name": "ipython",
    "version": 3
   },
   "file_extension": ".py",
   "mimetype": "text/x-python",
   "name": "python",
   "nbconvert_exporter": "python",
   "pygments_lexer": "ipython3",
   "version": "3.12.8"
  }
 },
 "nbformat": 4,
 "nbformat_minor": 5
}
